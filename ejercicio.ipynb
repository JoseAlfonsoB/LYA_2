{
 "cells": [
  {
   "cell_type": "markdown",
   "metadata": {},
   "source": [
    "# Busqueda en Amplitud"
   ]
  },
  {
   "cell_type": "markdown",
   "metadata": {},
   "source": [
    "El proceso de busqueda que se acaba de presentar es un procedimiento genérico, que puede dar lugar a variaciones. La primera que se va a presentar se llama Búsqueda en Amplitud ó Breadth First Search (BFS). Esta búsqueda recorre el árbol por niveles. Es decir:\n",
    "\n",
    "- Primero se visita el nodo raíz.\n",
    "- Seguidamente se visitan todos sus hijos.\n",
    "- Para cada hijo en el paso anterior, se visitan todos sus hijos, y asi sucesivame."
   ]
  },
  {
   "cell_type": "markdown",
   "metadata": {},
   "source": [
    "En este recorrido se implementa en la práctica usando una cola FIFO (First Int First Out) para a lista de nodos frontera. Una cola FIFO es una estructura de datos en la que se puede hacer dos operaciones principales: Almacenar un Datto y Usar un Dato. La oportunidad de las colas FIFO es cuando se saca un dato, este se extrae en el mismo orden en el que se ha almacenado. A continuación, se muestra el algoritmo de búsqueda en amplitud en Pseudocódigo."
   ]
  },
  {
   "cell_type": "markdown",
   "metadata": {},
   "source": [
    "Se continua con la práctica del aloritmo haciendo un programa para resolver el problema del Puzzle Lineal. Es una sencilla implementación de la estructura e datos del árbol de la que se hablará más adelante."
   ]
  },
  {
   "cell_type": "code",
   "execution_count": 1,
   "metadata": {},
   "outputs": [],
   "source": [
    "class Nodo:\n",
    "    def _init_(self, datos, hijos = None):\n",
    "        self.datos = datos\n",
    "        self.datos = None\n",
    "        self.padre = None\n",
    "        self.costo = None\n",
    "        self.set_hijos(hijos)\n",
    "\n",
    "\n",
    "    def set_hijos(self, hijos):\n",
    "        self.hijos = hijos\n",
    "        if self.hijos != None:\n",
    "            for h in hijos:\n",
    "                h.padre = self\n",
    "\n",
    "    def get_hijos(self):\n",
    "        return self.padre\n",
    "\n",
    "    def set_datos(self, datos):\n",
    "        self.datos = datos\n",
    "    \n",
    "    def set_costo(self, costo):\n",
    "        self.costo = costo\n",
    "\n",
    "    def igual(self, nodo):\n",
    "        if self.get_datos() == nodo.get_datos():\n",
    "            return True\n",
    "        else:\n",
    "            return False\n",
    "\n",
    "    def en_lista(self, lista_nodos):\n",
    "        en_la_lista = False\n",
    "        for n in lista_nodos:\n",
    "            if self.igual(n):\n",
    "                en_la_lista = True\n",
    "        return en_la_lista\n",
    "\n",
    "    def _str_(self):\n",
    "        return str(self.get_datos())"
   ]
  },
  {
   "cell_type": "markdown",
   "metadata": {},
   "source": [
    "El uso de la clase Nodo  es sencillo. El constructor acepta como primer parámetro un dato que será almacenado en el nodo(En principio de cualquier tipo). Opcionalmente acepta un segundo parámetro con una lista de hijos.\n",
    "\n",
    "Tambien es posible usar los siguientes métodos:\n",
    "\n",
    "Set_hijos\t\t\tAsigna al odo la lista de hijos que son pasados por parámetros.\n",
    "Get_hijos\t\t\tRetorna una lista con los hijos del nodo.\n",
    "Get_padre\t\t\tRetorna el nodo padre.\n",
    "Set_padre(padre)\t\tAsigna el nodo padre a este nodo.\n",
    "Set_datos(dato)\t\tAsigna un dato al nodo.\n",
    "Get_datos( )\t\t\tDevuelve el dato almacenado en el nodo.\n",
    "Set_peso( )\t\t\tAsigna un peso al nodo dentro del árbol.\n",
    "Get_peso( )\t\t\tDevuelve el peso del nodo dentro del árbol.\n",
    "En_lista(lista_nodos)\t\tDevuelve True si el dato contenido en el nodo es igual a alguno de los nodos contenidos en la lista de nodos pasada como parámetros. El código que resuelve el problema del Puzzle lineal es el siguiente:"
   ]
  },
  {
   "cell_type": "code",
   "execution_count": 2,
   "metadata": {},
   "outputs": [
    {
     "ename": "ModuleNotFoundError",
     "evalue": "No module named 'arbol'",
     "output_type": "error",
     "traceback": [
      "\u001b[0;31m---------------------------------------------------------------------------\u001b[0m",
      "\u001b[0;31mModuleNotFoundError\u001b[0m                       Traceback (most recent call last)",
      "Cell \u001b[0;32mIn[2], line 2\u001b[0m\n\u001b[1;32m      1\u001b[0m \u001b[38;5;66;03m# Puzle Lineal con busqueda en amplitud.\u001b[39;00m\n\u001b[0;32m----> 2\u001b[0m \u001b[38;5;28;01mfrom\u001b[39;00m \u001b[38;5;21;01marbol\u001b[39;00m \u001b[38;5;28;01mimport\u001b[39;00m Nodo\n\u001b[1;32m      4\u001b[0m \u001b[38;5;28;01mdef\u001b[39;00m \u001b[38;5;21mbuscar_solucion_BFS\u001b[39m(estado_inicial, solucion):\n\u001b[1;32m      5\u001b[0m     solucionado \u001b[38;5;241m=\u001b[39m \u001b[38;5;28;01mFalse\u001b[39;00m\n",
      "\u001b[0;31mModuleNotFoundError\u001b[0m: No module named 'arbol'"
     ]
    }
   ],
   "source": [
    "# Puzle Lineal con busqueda en amplitud.\n",
    "from arbol import Nodo\n",
    "\n",
    "def buscar_solucion_BFS(estado_inicial, solucion):\n",
    "    solucionado = False\n",
    "    nodos_visitados = []\n",
    "    nodos_frontera = []\n",
    "    nodoInicial = Nodo(estado_inicial)\n",
    "    nodos_frontera.append(nodoInicial)\n",
    "    while (not solucionado)and len(nodos_frontera) !=0:\n",
    "        nodo = nodos_frontera.pop(0)\n",
    "        # Extraer nodo y añadirlo a visitados\n",
    "        nodos_visitados.append(nodo)\n",
    "        if nodo.get_datos() == solucion:\n",
    "            # Solucion encontrada\n",
    "            solucionado = True\n",
    "            return nodo\n",
    "        else:\n",
    "            # Expandir nodos hijo\n",
    "            dato_nodo = nodo.get_datos()\n",
    "\n",
    "            # Operador Izquierdo\n",
    "            hijo = [dato_nodo[1], dato_nodo[0], dato_nodo[2], dato_nodo[3]]\n",
    "            hijo_izquierdo = Nodo(hijo)\n",
    "            if not hijo_izquierdo.en_lista(nodos_visitados) \\\n",
    "                and not hijo_izquierdo.en_lista(nodos_frontera):\n",
    "                nodos_frontera.append(hijo_izquierdo)"
   ]
  }
 ],
 "metadata": {
  "kernelspec": {
   "display_name": "base",
   "language": "python",
   "name": "python3"
  },
  "language_info": {
   "codemirror_mode": {
    "name": "ipython",
    "version": 3
   },
   "file_extension": ".py",
   "mimetype": "text/x-python",
   "name": "python",
   "nbconvert_exporter": "python",
   "pygments_lexer": "ipython3",
   "version": "3.12.4"
  }
 },
 "nbformat": 4,
 "nbformat_minor": 2
}
